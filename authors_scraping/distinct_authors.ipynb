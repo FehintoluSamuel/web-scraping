{
 "cells": [
  {
   "cell_type": "code",
   "execution_count": 51,
   "id": "2f96e869-95cd-48dd-8b16-06a07bb0ceb7",
   "metadata": {
    "editable": true,
    "slideshow": {
     "slide_type": ""
    },
    "tags": []
   },
   "outputs": [
    {
     "name": "stderr",
     "output_type": "stream",
     "text": [
      "C:\\Users\\fehin\\AppData\\Local\\Temp\\ipykernel_23488\\21561871.py:17: DeprecationWarning: Call to deprecated method findAll. (Replaced by find_all) -- Deprecated since version 4.0.0.\n",
      "  author_elements = soup.findAll('small', class_='author')\n"
     ]
    },
    {
     "name": "stdout",
     "output_type": "stream",
     "text": [
      "Found 10 authors\n",
      "Fetching https://quotes.toscrape.com/author/Albert-Einstein\n",
      "Added Albert Einstein\n",
      "Fetching https://quotes.toscrape.com/author/J-K-Rowling\n",
      "Added J.K. Rowling\n",
      "Fetching https://quotes.toscrape.com/author/Jane-Austen\n",
      "Added Jane Austen\n",
      "Fetching https://quotes.toscrape.com/author/Marilyn-Monroe\n",
      "Added Marilyn Monroe\n",
      "Fetching https://quotes.toscrape.com/author/Andre-Gide\n",
      "Added André Gide\n",
      "Fetching https://quotes.toscrape.com/author/Thomas-A-Edison\n",
      "Added Thomas A. Edison\n",
      "Fetching https://quotes.toscrape.com/author/Eleanor-Roosevelt\n",
      "Added Eleanor Roosevelt\n",
      "Fetching https://quotes.toscrape.com/author/Steve-Martin\n",
      "Added Steve Martin\n"
     ]
    }
   ],
   "source": [
    "import requests\n",
    "import csv\n",
    "from bs4 import BeautifulSoup\n",
    "\n",
    "BASE_URL = \"https://quotes.toscrape.com\"\n",
    "url = BASE_URL\n",
    "\n",
    "author_names = set()\n",
    "\n",
    "# Fetch the page\n",
    "response = requests.get(url)\n",
    "if response.status_code != 200:\n",
    "    print(f\"Failed to retrieve page: {response.status_code}\")\n",
    "    exit()\n",
    "\n",
    "soup = BeautifulSoup(response.text, 'html.parser')\n",
    "author_elements = soup.findAll('small', class_='author')\n",
    "\n",
    "print(f\"Found {len(author_elements)} authors\")  # Debugging print\n",
    "\n",
    "# Open CSV file inside 'with' block\n",
    "with open('Scraped_authors.csv', 'w', newline='', encoding='utf-8') as file:\n",
    "    writer = csv.writer(file)\n",
    "    writer.writerow(['Author Name', 'Author Born Date', 'Author Description'])\n",
    "\n",
    "    for each_author in author_elements:\n",
    "        name = each_author.text\n",
    "        if name not in author_names and len(author_names) < 20:\n",
    "            author_names.add(name)\n",
    "\n",
    "            author_link = each_author.find_parent(\"div\", class_=\"quote\").find(\"a\")\n",
    "            if not author_link:\n",
    "                print(f\"Author link not found for {name}\")\n",
    "                continue\n",
    "\n",
    "            author_url = BASE_URL + author_link[\"href\"]\n",
    "            print(f\"Fetching {author_url}\")  # Debugging print\n",
    "\n",
    "            author_response = requests.get(author_url)\n",
    "            author_soup = BeautifulSoup(author_response.text, 'html.parser')\n",
    "\n",
    "            DOB_element = author_soup.find('span', class_='author-born-date')\n",
    "            Desc_element = author_soup.find('div', class_='author-description')\n",
    "\n",
    "            if not DOB_element or not Desc_element:\n",
    "                print(f\"Skipping {name}, missing data\")\n",
    "                continue\n",
    "\n",
    "            DOB = DOB_element.text\n",
    "            Desc = Desc_element.text.strip()\n",
    "\n",
    "            writer.writerow([name, DOB, Desc])\n",
    "            print(f\"Added {name}\")  # Debugging print"
   ]
  }
 ],
 "metadata": {
  "kernelspec": {
   "display_name": "Python (venv)",
   "language": "python",
   "name": "venv"
  },
  "language_info": {
   "codemirror_mode": {
    "name": "ipython",
    "version": 3
   },
   "file_extension": ".py",
   "mimetype": "text/x-python",
   "name": "python",
   "nbconvert_exporter": "python",
   "pygments_lexer": "ipython3",
   "version": "3.13.2"
  }
 },
 "nbformat": 4,
 "nbformat_minor": 5
}
