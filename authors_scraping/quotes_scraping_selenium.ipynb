{
 "cells": [
  {
   "cell_type": "code",
   "execution_count": 1,
   "id": "2f7da87c-86b1-4ff0-bcf7-15dadd42836f",
   "metadata": {},
   "outputs": [],
   "source": [
    "import pandas as pd\n",
    "from selenium import webdriver\n",
    "from selenium.webdriver.common.by import By\n",
    "from selenium.webdriver.common.keys import Keys\n",
    "import time"
   ]
  },
  {
   "cell_type": "code",
   "execution_count": 3,
   "id": "5f276612-ba71-4781-b026-1ff1ff74e691",
   "metadata": {},
   "outputs": [
    {
     "data": {
      "text/plain": [
       "<selenium.webdriver.chrome.webdriver.WebDriver (session=\"572d369d875133645c6df61c85e3ea0b\")>"
      ]
     },
     "execution_count": 3,
     "metadata": {},
     "output_type": "execute_result"
    }
   ],
   "source": [
    "driver=webdriver.Chrome()\n",
    "driver"
   ]
  },
  {
   "cell_type": "code",
   "execution_count": 4,
   "id": "34dabde0-7b28-4953-b870-3e32bee88cb5",
   "metadata": {},
   "outputs": [],
   "source": [
    "driver.get('https://quotes.toscrape.com/')"
   ]
  },
  {
   "cell_type": "code",
   "execution_count": 5,
   "id": "8c85fec6-6aaf-4a3c-8768-6d837facdd34",
   "metadata": {},
   "outputs": [],
   "source": [
    "info_list=[]"
   ]
  },
  {
   "cell_type": "code",
   "execution_count": 20,
   "id": "d8b8eb6b-ae91-4826-a8c8-085704d4fb1a",
   "metadata": {},
   "outputs": [
    {
     "name": "stdout",
     "output_type": "stream",
     "text": [
      "successful\n",
      "successful\n",
      "successful\n",
      "successful\n",
      "successful\n",
      "successful\n",
      "successful\n",
      "successful\n",
      "successful\n",
      "successful\n"
     ]
    }
   ],
   "source": [
    "author_names = driver.find_elements(By.CLASS_NAME, 'author')\n",
    "author_quotes = driver.find_elements(By.CLASS_NAME, 'quote')\n",
    "\n",
    "for names, quotes in zip(author_names, author_quotes):\n",
    "    name = names.text.replace(' ', '-')\n",
    "    quote = quotes.text\n",
    "    author_link = f'https://quotes.toscrape.com/author/{name}'\n",
    "\n",
    "    driver.get(author_link)\n",
    "\n",
    "    try:\n",
    "        DOB = driver.find_element(By.CLASS_NAME, 'author-born-date').text\n",
    "        nationality = driver.find_element(By.CLASS_NAME, 'author-born-location').text\n",
    "        desc = driver.find_element(By.CLASS_NAME, 'author-description').text\n",
    "\n",
    "        info_list.append({'Name':name, 'Date of Birth': DOB, 'Nationality':nationality,'Description': desc})\n",
    "        print('successful')\n",
    "\n",
    "    except Exception as e:\n",
    "        print(f\"Error fetching details for {name}: {e}\")\n",
    "\n",
    "    driver.back()\n",
    "    time.sleep(3)"
   ]
  },
  {
   "cell_type": "code",
   "execution_count": 22,
   "id": "ab7c5558-e2a3-468e-8f21-38524014082e",
   "metadata": {},
   "outputs": [
    {
     "data": {
      "text/html": [
       "<div>\n",
       "<style scoped>\n",
       "    .dataframe tbody tr th:only-of-type {\n",
       "        vertical-align: middle;\n",
       "    }\n",
       "\n",
       "    .dataframe tbody tr th {\n",
       "        vertical-align: top;\n",
       "    }\n",
       "\n",
       "    .dataframe thead th {\n",
       "        text-align: right;\n",
       "    }\n",
       "</style>\n",
       "<table border=\"1\" class=\"dataframe\">\n",
       "  <thead>\n",
       "    <tr style=\"text-align: right;\">\n",
       "      <th></th>\n",
       "      <th>Name</th>\n",
       "      <th>Date of Birth</th>\n",
       "      <th>Nationality</th>\n",
       "      <th>Description</th>\n",
       "    </tr>\n",
       "  </thead>\n",
       "  <tbody>\n",
       "    <tr>\n",
       "      <th>0</th>\n",
       "      <td>Albert-Einstein</td>\n",
       "      <td>March 14, 1879</td>\n",
       "      <td>in Ulm, Germany</td>\n",
       "      <td>In 1879, Albert Einstein was born in Ulm, Germ...</td>\n",
       "    </tr>\n",
       "    <tr>\n",
       "      <th>1</th>\n",
       "      <td>J.K.-Rowling</td>\n",
       "      <td></td>\n",
       "      <td></td>\n",
       "      <td></td>\n",
       "    </tr>\n",
       "    <tr>\n",
       "      <th>2</th>\n",
       "      <td>Albert-Einstein</td>\n",
       "      <td>March 14, 1879</td>\n",
       "      <td>in Ulm, Germany</td>\n",
       "      <td>In 1879, Albert Einstein was born in Ulm, Germ...</td>\n",
       "    </tr>\n",
       "    <tr>\n",
       "      <th>3</th>\n",
       "      <td>Jane-Austen</td>\n",
       "      <td>December 16, 1775</td>\n",
       "      <td>in Steventon Rectory, Hampshire, The United Ki...</td>\n",
       "      <td>Jane Austen was an English novelist whose work...</td>\n",
       "    </tr>\n",
       "    <tr>\n",
       "      <th>4</th>\n",
       "      <td>Marilyn-Monroe</td>\n",
       "      <td>June 01, 1926</td>\n",
       "      <td>in The United States</td>\n",
       "      <td>Marilyn Monroe (born Norma Jeane Mortenson; Ju...</td>\n",
       "    </tr>\n",
       "  </tbody>\n",
       "</table>\n",
       "</div>"
      ],
      "text/plain": [
       "              Name      Date of Birth  \\\n",
       "0  Albert-Einstein     March 14, 1879   \n",
       "1     J.K.-Rowling                      \n",
       "2  Albert-Einstein     March 14, 1879   \n",
       "3      Jane-Austen  December 16, 1775   \n",
       "4   Marilyn-Monroe      June 01, 1926   \n",
       "\n",
       "                                         Nationality  \\\n",
       "0                                    in Ulm, Germany   \n",
       "1                                                      \n",
       "2                                    in Ulm, Germany   \n",
       "3  in Steventon Rectory, Hampshire, The United Ki...   \n",
       "4                               in The United States   \n",
       "\n",
       "                                         Description  \n",
       "0  In 1879, Albert Einstein was born in Ulm, Germ...  \n",
       "1                                                     \n",
       "2  In 1879, Albert Einstein was born in Ulm, Germ...  \n",
       "3  Jane Austen was an English novelist whose work...  \n",
       "4  Marilyn Monroe (born Norma Jeane Mortenson; Ju...  "
      ]
     },
     "execution_count": 22,
     "metadata": {},
     "output_type": "execute_result"
    }
   ],
   "source": [
    "df=pd.DataFrame(info_list)\n",
    "df.head()"
   ]
  },
  {
   "cell_type": "code",
   "execution_count": 23,
   "id": "095295ea-c1a2-4dfc-a64d-834294df9f15",
   "metadata": {},
   "outputs": [
    {
     "data": {
      "text/html": [
       "<div>\n",
       "<style scoped>\n",
       "    .dataframe tbody tr th:only-of-type {\n",
       "        vertical-align: middle;\n",
       "    }\n",
       "\n",
       "    .dataframe tbody tr th {\n",
       "        vertical-align: top;\n",
       "    }\n",
       "\n",
       "    .dataframe thead th {\n",
       "        text-align: right;\n",
       "    }\n",
       "</style>\n",
       "<table border=\"1\" class=\"dataframe\">\n",
       "  <thead>\n",
       "    <tr style=\"text-align: right;\">\n",
       "      <th></th>\n",
       "      <th>Name</th>\n",
       "      <th>Date of Birth</th>\n",
       "      <th>Nationality</th>\n",
       "      <th>Description</th>\n",
       "    </tr>\n",
       "  </thead>\n",
       "  <tbody>\n",
       "    <tr>\n",
       "      <th>0</th>\n",
       "      <td>False</td>\n",
       "      <td>False</td>\n",
       "      <td>False</td>\n",
       "      <td>False</td>\n",
       "    </tr>\n",
       "    <tr>\n",
       "      <th>1</th>\n",
       "      <td>False</td>\n",
       "      <td>False</td>\n",
       "      <td>False</td>\n",
       "      <td>False</td>\n",
       "    </tr>\n",
       "    <tr>\n",
       "      <th>2</th>\n",
       "      <td>False</td>\n",
       "      <td>False</td>\n",
       "      <td>False</td>\n",
       "      <td>False</td>\n",
       "    </tr>\n",
       "    <tr>\n",
       "      <th>3</th>\n",
       "      <td>False</td>\n",
       "      <td>False</td>\n",
       "      <td>False</td>\n",
       "      <td>False</td>\n",
       "    </tr>\n",
       "    <tr>\n",
       "      <th>4</th>\n",
       "      <td>False</td>\n",
       "      <td>False</td>\n",
       "      <td>False</td>\n",
       "      <td>False</td>\n",
       "    </tr>\n",
       "    <tr>\n",
       "      <th>5</th>\n",
       "      <td>False</td>\n",
       "      <td>False</td>\n",
       "      <td>False</td>\n",
       "      <td>False</td>\n",
       "    </tr>\n",
       "    <tr>\n",
       "      <th>6</th>\n",
       "      <td>False</td>\n",
       "      <td>False</td>\n",
       "      <td>False</td>\n",
       "      <td>False</td>\n",
       "    </tr>\n",
       "    <tr>\n",
       "      <th>7</th>\n",
       "      <td>False</td>\n",
       "      <td>False</td>\n",
       "      <td>False</td>\n",
       "      <td>False</td>\n",
       "    </tr>\n",
       "    <tr>\n",
       "      <th>8</th>\n",
       "      <td>False</td>\n",
       "      <td>False</td>\n",
       "      <td>False</td>\n",
       "      <td>False</td>\n",
       "    </tr>\n",
       "    <tr>\n",
       "      <th>9</th>\n",
       "      <td>False</td>\n",
       "      <td>False</td>\n",
       "      <td>False</td>\n",
       "      <td>False</td>\n",
       "    </tr>\n",
       "  </tbody>\n",
       "</table>\n",
       "</div>"
      ],
      "text/plain": [
       "    Name  Date of Birth  Nationality  Description\n",
       "0  False          False        False        False\n",
       "1  False          False        False        False\n",
       "2  False          False        False        False\n",
       "3  False          False        False        False\n",
       "4  False          False        False        False\n",
       "5  False          False        False        False\n",
       "6  False          False        False        False\n",
       "7  False          False        False        False\n",
       "8  False          False        False        False\n",
       "9  False          False        False        False"
      ]
     },
     "execution_count": 23,
     "metadata": {},
     "output_type": "execute_result"
    }
   ],
   "source": [
    "df.isnull()"
   ]
  },
  {
   "cell_type": "code",
   "execution_count": 24,
   "id": "216fbd84-50ba-4833-aa9d-4aaa0698d863",
   "metadata": {},
   "outputs": [],
   "source": [
    "quotes_scraping_selenium=df.to_csv('quotes_scraping_selenium.csv')\n",
    "quotes_scraping_selenium"
   ]
  },
  {
   "cell_type": "code",
   "execution_count": null,
   "id": "ce7e7a3c-a689-400b-aefa-6c2042e72109",
   "metadata": {},
   "outputs": [],
   "source": []
  }
 ],
 "metadata": {
  "kernelspec": {
   "display_name": "Python (scrape_venv)",
   "language": "python",
   "name": "scrape_venv"
  },
  "language_info": {
   "codemirror_mode": {
    "name": "ipython",
    "version": 3
   },
   "file_extension": ".py",
   "mimetype": "text/x-python",
   "name": "python",
   "nbconvert_exporter": "python",
   "pygments_lexer": "ipython3",
   "version": "3.13.2"
  }
 },
 "nbformat": 4,
 "nbformat_minor": 5
}
