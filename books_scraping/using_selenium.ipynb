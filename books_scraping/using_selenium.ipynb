{
 "cells": [
  {
   "cell_type": "code",
   "execution_count": 5,
   "id": "c005afd4-fb33-4689-aab7-6236cb5c7cbc",
   "metadata": {},
   "outputs": [],
   "source": [
    "import pandas as pd\n",
    "from selenium import webdriver\n",
    "from selenium.webdriver.common.by import By\n",
    "from selenium.webdriver.common.keys import Keys\n",
    "import time"
   ]
  },
  {
   "cell_type": "code",
   "execution_count": 7,
   "id": "1b7baf2b-6ee6-4b9a-8fb4-0ad0e1322101",
   "metadata": {},
   "outputs": [],
   "source": [
    "driver=webdriver.Chrome()"
   ]
  },
  {
   "cell_type": "code",
   "execution_count": 8,
   "id": "9587fadc-d24d-4ddd-95af-e22d313631b2",
   "metadata": {},
   "outputs": [],
   "source": [
    "open_url=driver.get('https://books.toscrape.com/catalogue/category/books_1/index.html')\n",
    "open_url"
   ]
  },
  {
   "cell_type": "code",
   "execution_count": 89,
   "id": "3a32a6d9-f2a2-47a5-bce4-1685cb59d21d",
   "metadata": {},
   "outputs": [
    {
     "name": "stdout",
     "output_type": "stream",
     "text": [
      "success\n",
      "success\n",
      "success\n",
      "success\n",
      "success\n",
      "success\n",
      "success\n",
      "success\n",
      "success\n",
      "success\n",
      "success\n",
      "success\n",
      "success\n",
      "success\n",
      "success\n",
      "success\n",
      "success\n",
      "success\n",
      "success\n",
      "success\n"
     ]
    }
   ],
   "source": [
    "book_info=[]\n",
    "titles=driver.find_elements(By.TAG_NAME,'h3')\n",
    "links=driver.find_elements(By.TAG_NAME,'a')\n",
    "gen_info=driver.find_elements(By.CLASS_NAME, 'price_color')\n",
    "stock_status=driver.find_elements(By.CLASS_NAME, 'instock.availability')\n",
    "star_rating=driver.find_elements(By.CLASS_NAME, 'star-rating')\n",
    "\n",
    "for title,link,price,stock_status,star_rating in zip(titles,links,gen_info,stock_status,star_rating):\n",
    "    title=title.text\n",
    "    link=link.get_attribute('href')\n",
    "    price=price.text\n",
    "    stock_status=stock_status.text\n",
    "    star_rating=star_rating.get_attribute('class')\n",
    "\n",
    "    book_info.append({'Title':title, 'link':link, 'Price':price, 'Availability':stock_status, 'Ratings':star_rating})\n",
    "    print('success')"
   ]
  },
  {
   "cell_type": "code",
   "execution_count": 90,
   "id": "a36a7254-2075-4145-951a-fdac4f854ae2",
   "metadata": {},
   "outputs": [
    {
     "data": {
      "text/html": [
       "<div>\n",
       "<style scoped>\n",
       "    .dataframe tbody tr th:only-of-type {\n",
       "        vertical-align: middle;\n",
       "    }\n",
       "\n",
       "    .dataframe tbody tr th {\n",
       "        vertical-align: top;\n",
       "    }\n",
       "\n",
       "    .dataframe thead th {\n",
       "        text-align: right;\n",
       "    }\n",
       "</style>\n",
       "<table border=\"1\" class=\"dataframe\">\n",
       "  <thead>\n",
       "    <tr style=\"text-align: right;\">\n",
       "      <th></th>\n",
       "      <th>Title</th>\n",
       "      <th>link</th>\n",
       "      <th>Price</th>\n",
       "      <th>Availability</th>\n",
       "      <th>Ratings</th>\n",
       "    </tr>\n",
       "  </thead>\n",
       "  <tbody>\n",
       "    <tr>\n",
       "      <th>0</th>\n",
       "      <td>A Light in the ...</td>\n",
       "      <td>https://books.toscrape.com/index.html</td>\n",
       "      <td>£51.77</td>\n",
       "      <td>In stock</td>\n",
       "      <td>star-rating Three</td>\n",
       "    </tr>\n",
       "    <tr>\n",
       "      <th>1</th>\n",
       "      <td>Tipping the Velvet</td>\n",
       "      <td>https://books.toscrape.com/index.html</td>\n",
       "      <td>£53.74</td>\n",
       "      <td>In stock</td>\n",
       "      <td>star-rating One</td>\n",
       "    </tr>\n",
       "    <tr>\n",
       "      <th>2</th>\n",
       "      <td>Soumission</td>\n",
       "      <td>https://books.toscrape.com/catalogue/category/...</td>\n",
       "      <td>£50.10</td>\n",
       "      <td>In stock</td>\n",
       "      <td>star-rating One</td>\n",
       "    </tr>\n",
       "    <tr>\n",
       "      <th>3</th>\n",
       "      <td>Sharp Objects</td>\n",
       "      <td>https://books.toscrape.com/catalogue/category/...</td>\n",
       "      <td>£47.82</td>\n",
       "      <td>In stock</td>\n",
       "      <td>star-rating Four</td>\n",
       "    </tr>\n",
       "    <tr>\n",
       "      <th>4</th>\n",
       "      <td>Sapiens: A Brief History ...</td>\n",
       "      <td>https://books.toscrape.com/catalogue/category/...</td>\n",
       "      <td>£54.23</td>\n",
       "      <td>In stock</td>\n",
       "      <td>star-rating Five</td>\n",
       "    </tr>\n",
       "  </tbody>\n",
       "</table>\n",
       "</div>"
      ],
      "text/plain": [
       "                          Title  \\\n",
       "0            A Light in the ...   \n",
       "1            Tipping the Velvet   \n",
       "2                    Soumission   \n",
       "3                 Sharp Objects   \n",
       "4  Sapiens: A Brief History ...   \n",
       "\n",
       "                                                link   Price Availability  \\\n",
       "0              https://books.toscrape.com/index.html  £51.77     In stock   \n",
       "1              https://books.toscrape.com/index.html  £53.74     In stock   \n",
       "2  https://books.toscrape.com/catalogue/category/...  £50.10     In stock   \n",
       "3  https://books.toscrape.com/catalogue/category/...  £47.82     In stock   \n",
       "4  https://books.toscrape.com/catalogue/category/...  £54.23     In stock   \n",
       "\n",
       "             Ratings  \n",
       "0  star-rating Three  \n",
       "1    star-rating One  \n",
       "2    star-rating One  \n",
       "3   star-rating Four  \n",
       "4   star-rating Five  "
      ]
     },
     "execution_count": 90,
     "metadata": {},
     "output_type": "execute_result"
    }
   ],
   "source": [
    "df=pd.DataFrame(book_info)\n",
    "df.head()"
   ]
  },
  {
   "cell_type": "code",
   "execution_count": 94,
   "id": "38fd6148-50a8-4a3f-8809-efd2b1c24808",
   "metadata": {},
   "outputs": [
    {
     "name": "stdout",
     "output_type": "stream",
     "text": [
      "None\n"
     ]
    }
   ],
   "source": [
    "new_books_info=df.to_csv('book_info_using_selenium.csv')\n",
    "print(new_books_info)"
   ]
  },
  {
   "cell_type": "code",
   "execution_count": null,
   "id": "7f5add52-d4ed-4d80-bf56-ab0e667917b4",
   "metadata": {},
   "outputs": [],
   "source": []
  }
 ],
 "metadata": {
  "kernelspec": {
   "display_name": "Python (scrape_venv)",
   "language": "python",
   "name": "scrape_venv"
  },
  "language_info": {
   "codemirror_mode": {
    "name": "ipython",
    "version": 3
   },
   "file_extension": ".py",
   "mimetype": "text/x-python",
   "name": "python",
   "nbconvert_exporter": "python",
   "pygments_lexer": "ipython3",
   "version": "3.13.2"
  }
 },
 "nbformat": 4,
 "nbformat_minor": 5
}
