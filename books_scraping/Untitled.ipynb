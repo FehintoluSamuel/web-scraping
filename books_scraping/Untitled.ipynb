{
 "cells": [
  {
   "cell_type": "code",
   "execution_count": 2,
   "id": "835544e1-3a61-4cd2-9da3-2414a74b984a",
   "metadata": {
    "editable": true,
    "slideshow": {
     "slide_type": ""
    },
    "tags": []
   },
   "outputs": [
    {
     "name": "stdout",
     "output_type": "stream",
     "text": [
      "Defaulting to user installation because normal site-packages is not writeable\n",
      "Requirement already satisfied: pandas in c:\\users\\fehin\\appdata\\local\\packages\\pythonsoftwarefoundation.python.3.13_qbz5n2kfra8p0\\localcache\\local-packages\\python313\\site-packages (2.2.3)\n",
      "Requirement already satisfied: numpy>=1.26.0 in c:\\users\\fehin\\appdata\\local\\packages\\pythonsoftwarefoundation.python.3.13_qbz5n2kfra8p0\\localcache\\local-packages\\python313\\site-packages (from pandas) (2.2.1)\n",
      "Requirement already satisfied: python-dateutil>=2.8.2 in c:\\users\\fehin\\appdata\\local\\packages\\pythonsoftwarefoundation.python.3.13_qbz5n2kfra8p0\\localcache\\local-packages\\python313\\site-packages (from pandas) (2.9.0.post0)\n",
      "Requirement already satisfied: pytz>=2020.1 in c:\\users\\fehin\\appdata\\local\\packages\\pythonsoftwarefoundation.python.3.13_qbz5n2kfra8p0\\localcache\\local-packages\\python313\\site-packages (from pandas) (2025.1)\n",
      "Requirement already satisfied: tzdata>=2022.7 in c:\\users\\fehin\\appdata\\local\\packages\\pythonsoftwarefoundation.python.3.13_qbz5n2kfra8p0\\localcache\\local-packages\\python313\\site-packages (from pandas) (2025.1)\n",
      "Requirement already satisfied: six>=1.5 in c:\\users\\fehin\\appdata\\local\\packages\\pythonsoftwarefoundation.python.3.13_qbz5n2kfra8p0\\localcache\\local-packages\\python313\\site-packages (from python-dateutil>=2.8.2->pandas) (1.17.0)\n"
     ]
    }
   ],
   "source": [
    "!pip install pandas"
   ]
  },
  {
   "cell_type": "code",
   "execution_count": 3,
   "id": "05a694dc-6af9-436b-bbc1-11028d935a1c",
   "metadata": {
    "editable": true,
    "slideshow": {
     "slide_type": ""
    },
    "tags": []
   },
   "outputs": [],
   "source": [
    "import pandas as pd"
   ]
  },
  {
   "cell_type": "code",
   "execution_count": 4,
   "id": "39fead70-8a5c-4d24-9feb-6b0b21446a9c",
   "metadata": {
    "editable": true,
    "slideshow": {
     "slide_type": ""
    },
    "tags": []
   },
   "outputs": [],
   "source": [
    "import requests\n",
    "from bs4 import BeautifulSoup\n",
    "\n"
   ]
  },
  {
   "cell_type": "code",
   "execution_count": 21,
   "id": "299c69e5-71a5-4976-bf07-1a305ccf7806",
   "metadata": {
    "editable": true,
    "slideshow": {
     "slide_type": ""
    },
    "tags": []
   },
   "outputs": [
    {
     "name": "stderr",
     "output_type": "stream",
     "text": [
      "C:\\Users\\fehin\\AppData\\Local\\Temp\\ipykernel_22156\\3865161183.py:11: DeprecationWarning: Call to deprecated method findAll. (Replaced by find_all) -- Deprecated since version 4.0.0.\n",
      "  book_info=soup.findAll('article',class_='product_pod') #This accesses all the title info in the site\n"
     ]
    },
    {
     "name": "stdout",
     "output_type": "stream",
     "text": [
      "[{'Title': 'A Light in the Attic', 'Price': 'Â£51.77', 'Rating': 'Three', 'Stock': 'out of stock'}, {'Title': 'Tipping the Velvet', 'Price': 'Â£53.74', 'Rating': 'One', 'Stock': 'out of stock'}, {'Title': 'Soumission', 'Price': 'Â£50.10', 'Rating': 'One', 'Stock': 'out of stock'}, {'Title': 'Sharp Objects', 'Price': 'Â£47.82', 'Rating': 'Four', 'Stock': 'out of stock'}, {'Title': 'Sapiens: A Brief History of Humankind', 'Price': 'Â£54.23', 'Rating': 'Five', 'Stock': 'out of stock'}, {'Title': 'The Requiem Red', 'Price': 'Â£22.65', 'Rating': 'One', 'Stock': 'out of stock'}, {'Title': 'The Dirty Little Secrets of Getting Your Dream Job', 'Price': 'Â£33.34', 'Rating': 'Four', 'Stock': 'out of stock'}, {'Title': 'The Coming Woman: A Novel Based on the Life of the Infamous Feminist, Victoria Woodhull', 'Price': 'Â£17.93', 'Rating': 'Three', 'Stock': 'out of stock'}, {'Title': 'The Boys in the Boat: Nine Americans and Their Epic Quest for Gold at the 1936 Berlin Olympics', 'Price': 'Â£22.60', 'Rating': 'Four', 'Stock': 'out of stock'}, {'Title': 'The Black Maria', 'Price': 'Â£52.15', 'Rating': 'One', 'Stock': 'out of stock'}, {'Title': 'Starving Hearts (Triangular Trade Trilogy, #1)', 'Price': 'Â£13.99', 'Rating': 'Two', 'Stock': 'out of stock'}, {'Title': \"Shakespeare's Sonnets\", 'Price': 'Â£20.66', 'Rating': 'Four', 'Stock': 'out of stock'}, {'Title': 'Set Me Free', 'Price': 'Â£17.46', 'Rating': 'Five', 'Stock': 'out of stock'}, {'Title': \"Scott Pilgrim's Precious Little Life (Scott Pilgrim #1)\", 'Price': 'Â£52.29', 'Rating': 'Five', 'Stock': 'out of stock'}, {'Title': 'Rip it Up and Start Again', 'Price': 'Â£35.02', 'Rating': 'Five', 'Stock': 'out of stock'}, {'Title': 'Our Band Could Be Your Life: Scenes from the American Indie Underground, 1981-1991', 'Price': 'Â£57.25', 'Rating': 'Three', 'Stock': 'out of stock'}, {'Title': 'Olio', 'Price': 'Â£23.88', 'Rating': 'One', 'Stock': 'out of stock'}, {'Title': 'Mesaerion: The Best Science Fiction Stories 1800-1849', 'Price': 'Â£37.59', 'Rating': 'One', 'Stock': 'out of stock'}, {'Title': 'Libertarianism for Beginners', 'Price': 'Â£51.33', 'Rating': 'Two', 'Stock': 'out of stock'}, {'Title': \"It's Only the Himalayas\", 'Price': 'Â£45.17', 'Rating': 'Two', 'Stock': 'out of stock'}, {'Title': 'In Her Wake', 'Price': 'Â£12.84', 'Rating': 'One', 'Stock': 'out of stock'}, {'Title': 'How Music Works', 'Price': 'Â£37.32', 'Rating': 'Two', 'Stock': 'out of stock'}, {'Title': 'Foolproof Preserving: A Guide to Small Batch Jams, Jellies, Pickles, Condiments, and More: A Foolproof Guide to Making Small Batch Jams, Jellies, Pickles, Condiments, and More', 'Price': 'Â£30.52', 'Rating': 'Three', 'Stock': 'out of stock'}, {'Title': 'Chase Me (Paris Nights #2)', 'Price': 'Â£25.27', 'Rating': 'Five', 'Stock': 'out of stock'}, {'Title': 'Black Dust', 'Price': 'Â£34.53', 'Rating': 'Five', 'Stock': 'out of stock'}, {'Title': 'Birdsong: A Story in Pictures', 'Price': 'Â£54.64', 'Rating': 'Three', 'Stock': 'out of stock'}, {'Title': \"America's Cradle of Quarterbacks: Western Pennsylvania's Football Factory from Johnny Unitas to Joe Montana\", 'Price': 'Â£22.50', 'Rating': 'Three', 'Stock': 'out of stock'}, {'Title': 'Aladdin and His Wonderful Lamp', 'Price': 'Â£53.13', 'Rating': 'Three', 'Stock': 'out of stock'}, {'Title': 'Worlds Elsewhere: Journeys Around Shakespeareâ\\x80\\x99s Globe', 'Price': 'Â£40.30', 'Rating': 'Five', 'Stock': 'out of stock'}, {'Title': 'Wall and Piece', 'Price': 'Â£44.18', 'Rating': 'Four', 'Stock': 'out of stock'}, {'Title': 'The Four Agreements: A Practical Guide to Personal Freedom', 'Price': 'Â£17.66', 'Rating': 'Five', 'Stock': 'out of stock'}, {'Title': 'The Five Love Languages: How to Express Heartfelt Commitment to Your Mate', 'Price': 'Â£31.05', 'Rating': 'Three', 'Stock': 'out of stock'}, {'Title': 'The Elephant Tree', 'Price': 'Â£23.82', 'Rating': 'Five', 'Stock': 'out of stock'}, {'Title': 'The Bear and the Piano', 'Price': 'Â£36.89', 'Rating': 'One', 'Stock': 'out of stock'}, {'Title': \"Sophie's World\", 'Price': 'Â£15.94', 'Rating': 'Five', 'Stock': 'out of stock'}, {'Title': 'Penny Maybe', 'Price': 'Â£33.29', 'Rating': 'Three', 'Stock': 'out of stock'}, {'Title': 'Maude (1883-1993):She Grew Up with the country', 'Price': 'Â£18.02', 'Rating': 'Two', 'Stock': 'out of stock'}, {'Title': 'In a Dark, Dark Wood', 'Price': 'Â£19.63', 'Rating': 'One', 'Stock': 'out of stock'}, {'Title': 'Behind Closed Doors', 'Price': 'Â£52.22', 'Rating': 'Four', 'Stock': 'out of stock'}, {'Title': \"You can't bury them all: Poems\", 'Price': 'Â£33.63', 'Rating': 'Two', 'Stock': 'out of stock'}, {'Title': 'Slow States of Collapse: Poems', 'Price': 'Â£57.31', 'Rating': 'Three', 'Stock': 'out of stock'}, {'Title': 'Reasons to Stay Alive', 'Price': 'Â£26.41', 'Rating': 'Two', 'Stock': 'out of stock'}, {'Title': 'Private Paris (Private #10)', 'Price': 'Â£47.61', 'Rating': 'Five', 'Stock': 'out of stock'}, {'Title': '#HigherSelfie: Wake Up Your Life. Free Your Soul. Find Your Tribe.', 'Price': 'Â£23.11', 'Rating': 'Five', 'Stock': 'out of stock'}, {'Title': 'Without Borders (Wanderlove #1)', 'Price': 'Â£45.07', 'Rating': 'Two', 'Stock': 'out of stock'}, {'Title': 'When We Collided', 'Price': 'Â£31.77', 'Rating': 'One', 'Stock': 'out of stock'}, {'Title': 'We Love You, Charlie Freeman', 'Price': 'Â£50.27', 'Rating': 'Five', 'Stock': 'out of stock'}, {'Title': 'Untitled Collection: Sabbath Poems 2014', 'Price': 'Â£14.27', 'Rating': 'Four', 'Stock': 'out of stock'}, {'Title': 'Unseen City: The Majesty of Pigeons, the Discreet Charm of Snails & Other Wonders of the Urban Wilderness', 'Price': 'Â£44.18', 'Rating': 'Four', 'Stock': 'out of stock'}, {'Title': 'Unicorn Tracks', 'Price': 'Â£18.78', 'Rating': 'Three', 'Stock': 'out of stock'}, {'Title': 'Unbound: How Eight Technologies Made Us Human, Transformed Society, and Brought Our World to the Brink', 'Price': 'Â£25.52', 'Rating': 'One', 'Stock': 'out of stock'}, {'Title': 'Tsubasa: WoRLD CHRoNiCLE 2 (Tsubasa WoRLD CHRoNiCLE #2)', 'Price': 'Â£16.28', 'Rating': 'One', 'Stock': 'out of stock'}, {'Title': 'Throwing Rocks at the Google Bus: How Growth Became the Enemy of Prosperity', 'Price': 'Â£31.12', 'Rating': 'Three', 'Stock': 'out of stock'}, {'Title': 'This One Summer', 'Price': 'Â£19.49', 'Rating': 'Four', 'Stock': 'out of stock'}, {'Title': 'Thirst', 'Price': 'Â£17.27', 'Rating': 'Five', 'Stock': 'out of stock'}, {'Title': 'The Torch Is Passed: A Harding Family Story', 'Price': 'Â£19.09', 'Rating': 'One', 'Stock': 'out of stock'}, {'Title': 'The Secret of Dreadwillow Carse', 'Price': 'Â£56.13', 'Rating': 'One', 'Stock': 'out of stock'}, {'Title': 'The Pioneer Woman Cooks: Dinnertime: Comfort Classics, Freezer Food, 16-Minute Meals, and Other Delicious Ways to Solve Supper!', 'Price': 'Â£56.41', 'Rating': 'One', 'Stock': 'out of stock'}, {'Title': 'The Past Never Ends', 'Price': 'Â£56.50', 'Rating': 'Four', 'Stock': 'out of stock'}, {'Title': 'The Natural History of Us (The Fine Art of Pretending #2)', 'Price': 'Â£45.22', 'Rating': 'Three', 'Stock': 'out of stock'}, {'Title': 'The Nameless City (The Nameless City #1)', 'Price': 'Â£38.16', 'Rating': 'Four', 'Stock': 'out of stock'}, {'Title': 'The Murder That Never Was (Forensic Instincts #5)', 'Price': 'Â£54.11', 'Rating': 'Three', 'Stock': 'out of stock'}, {'Title': \"The Most Perfect Thing: Inside (and Outside) a Bird's Egg\", 'Price': 'Â£42.96', 'Rating': 'Four', 'Stock': 'out of stock'}, {'Title': 'The Mindfulness and Acceptance Workbook for Anxiety: A Guide to Breaking Free from Anxiety, Phobias, and Worry Using Acceptance and Commitment Therapy', 'Price': 'Â£23.89', 'Rating': 'Four', 'Stock': 'out of stock'}, {'Title': 'The Life-Changing Magic of Tidying Up: The Japanese Art of Decluttering and Organizing', 'Price': 'Â£16.77', 'Rating': 'Three', 'Stock': 'out of stock'}, {'Title': 'The Inefficiency Assassin: Time Management Tactics for Working Smarter, Not Longer', 'Price': 'Â£20.59', 'Rating': 'Five', 'Stock': 'out of stock'}, {'Title': 'The Gutsy Girl: Escapades for Your Life of Epic Adventure', 'Price': 'Â£37.13', 'Rating': 'One', 'Stock': 'out of stock'}, {'Title': 'The Electric Pencil: Drawings from Inside State Hospital No. 3', 'Price': 'Â£56.06', 'Rating': 'One', 'Stock': 'out of stock'}, {'Title': 'The Death of Humanity: and the Case for Life', 'Price': 'Â£58.11', 'Rating': 'Four', 'Stock': 'out of stock'}, {'Title': 'The Bulletproof Diet: Lose up to a Pound a Day, Reclaim Energy and Focus, Upgrade Your Life', 'Price': 'Â£49.05', 'Rating': 'Three', 'Stock': 'out of stock'}, {'Title': 'The Art Forger', 'Price': 'Â£40.76', 'Rating': 'Three', 'Stock': 'out of stock'}, {'Title': 'The Age of Genius: The Seventeenth Century and the Birth of the Modern Mind', 'Price': 'Â£19.73', 'Rating': 'One', 'Stock': 'out of stock'}, {'Title': \"The Activist's Tao Te Ching: Ancient Advice for a Modern Revolution\", 'Price': 'Â£32.24', 'Rating': 'Five', 'Stock': 'out of stock'}, {'Title': 'Spark Joy: An Illustrated Master Class on the Art of Organizing and Tidying Up', 'Price': 'Â£41.83', 'Rating': 'Four', 'Stock': 'out of stock'}, {'Title': 'Soul Reader', 'Price': 'Â£39.58', 'Rating': 'Two', 'Stock': 'out of stock'}, {'Title': 'Security', 'Price': 'Â£39.25', 'Rating': 'Two', 'Stock': 'out of stock'}, {'Title': 'Saga, Volume 6 (Saga (Collected Editions) #6)', 'Price': 'Â£25.02', 'Rating': 'Three', 'Stock': 'out of stock'}, {'Title': 'Saga, Volume 5 (Saga (Collected Editions) #5)', 'Price': 'Â£51.04', 'Rating': 'Two', 'Stock': 'out of stock'}, {'Title': 'Reskilling America: Learning to Labor in the Twenty-First Century', 'Price': 'Â£19.83', 'Rating': 'Two', 'Stock': 'out of stock'}, {'Title': 'Rat Queens, Vol. 3: Demons (Rat Queens (Collected Editions) #11-15)', 'Price': 'Â£50.40', 'Rating': 'Three', 'Stock': 'out of stock'}, {'Title': 'Princess Jellyfish 2-in-1 Omnibus, Vol. 01 (Princess Jellyfish 2-in-1 Omnibus #1)', 'Price': 'Â£13.61', 'Rating': 'Five', 'Stock': 'out of stock'}, {'Title': 'Princess Between Worlds (Wide-Awake Princess #5)', 'Price': 'Â£13.34', 'Rating': 'Five', 'Stock': 'out of stock'}, {'Title': 'Pop Gun War, Volume 1: Gift', 'Price': 'Â£18.97', 'Rating': 'One', 'Stock': 'out of stock'}, {'Title': 'Political Suicide: Missteps, Peccadilloes, Bad Calls, Backroom Hijinx, Sordid Pasts, Rotten Breaks, and Just Plain Dumb Mistakes in the Annals of American Politics', 'Price': 'Â£36.28', 'Rating': 'Two', 'Stock': 'out of stock'}, {'Title': 'Patience', 'Price': 'Â£10.16', 'Rating': 'Three', 'Stock': 'out of stock'}, {'Title': 'Outcast, Vol. 1: A Darkness Surrounds Him (Outcast #1)', 'Price': 'Â£15.44', 'Rating': 'Four', 'Stock': 'out of stock'}, {'Title': 'orange: The Complete Collection 1 (orange: The Complete Collection #1)', 'Price': 'Â£48.41', 'Rating': 'One', 'Stock': 'out of stock'}, {'Title': 'Online Marketing for Busy Authors: A Step-By-Step Guide', 'Price': 'Â£46.35', 'Rating': 'One', 'Stock': 'out of stock'}, {'Title': 'On a Midnight Clear', 'Price': 'Â£14.07', 'Rating': 'Three', 'Stock': 'out of stock'}, {'Title': 'Obsidian (Lux #1)', 'Price': 'Â£14.86', 'Rating': 'Two', 'Stock': 'out of stock'}, {'Title': 'My Paris Kitchen: Recipes and Stories', 'Price': 'Â£33.37', 'Rating': 'Two', 'Stock': 'out of stock'}, {'Title': 'Masks and Shadows', 'Price': 'Â£56.40', 'Rating': 'Two', 'Stock': 'out of stock'}, {'Title': 'Mama Tried: Traditional Italian Cooking for the Screwed, Crude, Vegan, and Tattooed', 'Price': 'Â£14.02', 'Rating': 'Four', 'Stock': 'out of stock'}, {'Title': 'Lumberjanes, Vol. 2: Friendship to the Max (Lumberjanes #5-8)', 'Price': 'Â£46.91', 'Rating': 'Two', 'Stock': 'out of stock'}, {'Title': 'Lumberjanes, Vol. 1: Beware the Kitten Holy (Lumberjanes #1-4)', 'Price': 'Â£45.61', 'Rating': 'Three', 'Stock': 'out of stock'}, {'Title': 'Lumberjanes Vol. 3: A Terrible Plan (Lumberjanes #9-12)', 'Price': 'Â£19.92', 'Rating': 'Two', 'Stock': 'out of stock'}, {'Title': 'Layered: Baking, Building, and Styling Spectacular Cakes', 'Price': 'Â£40.11', 'Rating': 'One', 'Stock': 'out of stock'}, {'Title': 'Judo: Seven Steps to Black Belt (an Introductory Guide for Beginners)', 'Price': 'Â£53.90', 'Rating': 'Two', 'Stock': 'out of stock'}, {'Title': 'Join', 'Price': 'Â£35.67', 'Rating': 'Five', 'Stock': 'out of stock'}, {'Title': 'In the Country We Love: My Family Divided', 'Price': 'Â£22.00', 'Rating': 'Four', 'Stock': 'out of stock'}]\n"
     ]
    }
   ],
   "source": [
    "books=[]\n",
    "\n",
    "for page in range(1,6): #This scarpes the first 5 pages of the site\n",
    "    url=f'https://books.toscrape.com/catalogue/page-{page}.html' #site url\n",
    "    response=requests.get(url)\n",
    "    if response.status_code!=200:\n",
    "        print(f'failed to connect to page: {page}')\n",
    "        continue #debugging\n",
    "    \n",
    "    soup=BeautifulSoup(response.text,'html.parser')\n",
    "    book_info=soup.findAll('article',class_='product_pod') #This accesses all the title info in the site\n",
    "    \n",
    "    for info in book_info:\n",
    "        title=info.h3.a[\"title\"] #to find the title of each book \n",
    "        price=info.find('p', class_='price_color').text #to find the price of each book \n",
    "        rating=info.p['class'][1] #to find the rating of each book \n",
    "        stock='in stock' if 'in stock' in info.find('p',class_='instock availability').text else 'out of stock' #to find the availabiility of each book \n",
    "\n",
    "        books.append({'Title':title,'Price':price,'Rating':rating,'Stock':stock}) #storing each result inside the list\n",
    "\n",
    "\n",
    "print(books)\n",
    "\n",
    "\n",
    "    \n",
    "\n",
    "    "
   ]
  },
  {
   "cell_type": "code",
   "execution_count": 22,
   "id": "169b53dc-7c09-404f-8dae-6c2dfa2f4440",
   "metadata": {},
   "outputs": [],
   "source": [
    "books_data=pd.DataFrame(books)"
   ]
  },
  {
   "cell_type": "code",
   "execution_count": 23,
   "id": "0d0ed0b1-0f36-4d54-b92f-7e48f8ede58f",
   "metadata": {},
   "outputs": [
    {
     "data": {
      "text/html": [
       "<div>\n",
       "<style scoped>\n",
       "    .dataframe tbody tr th:only-of-type {\n",
       "        vertical-align: middle;\n",
       "    }\n",
       "\n",
       "    .dataframe tbody tr th {\n",
       "        vertical-align: top;\n",
       "    }\n",
       "\n",
       "    .dataframe thead th {\n",
       "        text-align: right;\n",
       "    }\n",
       "</style>\n",
       "<table border=\"1\" class=\"dataframe\">\n",
       "  <thead>\n",
       "    <tr style=\"text-align: right;\">\n",
       "      <th></th>\n",
       "      <th>Title</th>\n",
       "      <th>Price</th>\n",
       "      <th>Rating</th>\n",
       "      <th>Stock</th>\n",
       "    </tr>\n",
       "  </thead>\n",
       "  <tbody>\n",
       "    <tr>\n",
       "      <th>0</th>\n",
       "      <td>A Light in the Attic</td>\n",
       "      <td>Â£51.77</td>\n",
       "      <td>Three</td>\n",
       "      <td>out of stock</td>\n",
       "    </tr>\n",
       "    <tr>\n",
       "      <th>1</th>\n",
       "      <td>Tipping the Velvet</td>\n",
       "      <td>Â£53.74</td>\n",
       "      <td>One</td>\n",
       "      <td>out of stock</td>\n",
       "    </tr>\n",
       "    <tr>\n",
       "      <th>2</th>\n",
       "      <td>Soumission</td>\n",
       "      <td>Â£50.10</td>\n",
       "      <td>One</td>\n",
       "      <td>out of stock</td>\n",
       "    </tr>\n",
       "    <tr>\n",
       "      <th>3</th>\n",
       "      <td>Sharp Objects</td>\n",
       "      <td>Â£47.82</td>\n",
       "      <td>Four</td>\n",
       "      <td>out of stock</td>\n",
       "    </tr>\n",
       "    <tr>\n",
       "      <th>4</th>\n",
       "      <td>Sapiens: A Brief History of Humankind</td>\n",
       "      <td>Â£54.23</td>\n",
       "      <td>Five</td>\n",
       "      <td>out of stock</td>\n",
       "    </tr>\n",
       "  </tbody>\n",
       "</table>\n",
       "</div>"
      ],
      "text/plain": [
       "                                   Title    Price Rating         Stock\n",
       "0                   A Light in the Attic  Â£51.77  Three  out of stock\n",
       "1                     Tipping the Velvet  Â£53.74    One  out of stock\n",
       "2                             Soumission  Â£50.10    One  out of stock\n",
       "3                          Sharp Objects  Â£47.82   Four  out of stock\n",
       "4  Sapiens: A Brief History of Humankind  Â£54.23   Five  out of stock"
      ]
     },
     "execution_count": 23,
     "metadata": {},
     "output_type": "execute_result"
    }
   ],
   "source": [
    "books_data.head()"
   ]
  },
  {
   "cell_type": "code",
   "execution_count": 25,
   "id": "dc93ef7d-a8b8-4166-9fa3-9c2f60995406",
   "metadata": {},
   "outputs": [
    {
     "data": {
      "text/html": [
       "<div>\n",
       "<style scoped>\n",
       "    .dataframe tbody tr th:only-of-type {\n",
       "        vertical-align: middle;\n",
       "    }\n",
       "\n",
       "    .dataframe tbody tr th {\n",
       "        vertical-align: top;\n",
       "    }\n",
       "\n",
       "    .dataframe thead th {\n",
       "        text-align: right;\n",
       "    }\n",
       "</style>\n",
       "<table border=\"1\" class=\"dataframe\">\n",
       "  <thead>\n",
       "    <tr style=\"text-align: right;\">\n",
       "      <th></th>\n",
       "      <th>Title</th>\n",
       "      <th>Price</th>\n",
       "      <th>Rating</th>\n",
       "      <th>Stock</th>\n",
       "    </tr>\n",
       "  </thead>\n",
       "  <tbody>\n",
       "    <tr>\n",
       "      <th>0</th>\n",
       "      <td>A Light in the Attic</td>\n",
       "      <td>51.77</td>\n",
       "      <td>Three</td>\n",
       "      <td>out of stock</td>\n",
       "    </tr>\n",
       "    <tr>\n",
       "      <th>1</th>\n",
       "      <td>Tipping the Velvet</td>\n",
       "      <td>53.74</td>\n",
       "      <td>One</td>\n",
       "      <td>out of stock</td>\n",
       "    </tr>\n",
       "    <tr>\n",
       "      <th>2</th>\n",
       "      <td>Soumission</td>\n",
       "      <td>50.10</td>\n",
       "      <td>One</td>\n",
       "      <td>out of stock</td>\n",
       "    </tr>\n",
       "    <tr>\n",
       "      <th>3</th>\n",
       "      <td>Sharp Objects</td>\n",
       "      <td>47.82</td>\n",
       "      <td>Four</td>\n",
       "      <td>out of stock</td>\n",
       "    </tr>\n",
       "    <tr>\n",
       "      <th>4</th>\n",
       "      <td>Sapiens: A Brief History of Humankind</td>\n",
       "      <td>54.23</td>\n",
       "      <td>Five</td>\n",
       "      <td>out of stock</td>\n",
       "    </tr>\n",
       "    <tr>\n",
       "      <th>...</th>\n",
       "      <td>...</td>\n",
       "      <td>...</td>\n",
       "      <td>...</td>\n",
       "      <td>...</td>\n",
       "    </tr>\n",
       "    <tr>\n",
       "      <th>95</th>\n",
       "      <td>Lumberjanes Vol. 3: A Terrible Plan (Lumberjan...</td>\n",
       "      <td>19.92</td>\n",
       "      <td>Two</td>\n",
       "      <td>out of stock</td>\n",
       "    </tr>\n",
       "    <tr>\n",
       "      <th>96</th>\n",
       "      <td>Layered: Baking, Building, and Styling Spectac...</td>\n",
       "      <td>40.11</td>\n",
       "      <td>One</td>\n",
       "      <td>out of stock</td>\n",
       "    </tr>\n",
       "    <tr>\n",
       "      <th>97</th>\n",
       "      <td>Judo: Seven Steps to Black Belt (an Introducto...</td>\n",
       "      <td>53.90</td>\n",
       "      <td>Two</td>\n",
       "      <td>out of stock</td>\n",
       "    </tr>\n",
       "    <tr>\n",
       "      <th>98</th>\n",
       "      <td>Join</td>\n",
       "      <td>35.67</td>\n",
       "      <td>Five</td>\n",
       "      <td>out of stock</td>\n",
       "    </tr>\n",
       "    <tr>\n",
       "      <th>99</th>\n",
       "      <td>In the Country We Love: My Family Divided</td>\n",
       "      <td>22.00</td>\n",
       "      <td>Four</td>\n",
       "      <td>out of stock</td>\n",
       "    </tr>\n",
       "  </tbody>\n",
       "</table>\n",
       "<p>100 rows × 4 columns</p>\n",
       "</div>"
      ],
      "text/plain": [
       "                                                Title  Price Rating  \\\n",
       "0                                A Light in the Attic  51.77  Three   \n",
       "1                                  Tipping the Velvet  53.74    One   \n",
       "2                                          Soumission  50.10    One   \n",
       "3                                       Sharp Objects  47.82   Four   \n",
       "4               Sapiens: A Brief History of Humankind  54.23   Five   \n",
       "..                                                ...    ...    ...   \n",
       "95  Lumberjanes Vol. 3: A Terrible Plan (Lumberjan...  19.92    Two   \n",
       "96  Layered: Baking, Building, and Styling Spectac...  40.11    One   \n",
       "97  Judo: Seven Steps to Black Belt (an Introducto...  53.90    Two   \n",
       "98                                               Join  35.67   Five   \n",
       "99          In the Country We Love: My Family Divided  22.00   Four   \n",
       "\n",
       "           Stock  \n",
       "0   out of stock  \n",
       "1   out of stock  \n",
       "2   out of stock  \n",
       "3   out of stock  \n",
       "4   out of stock  \n",
       "..           ...  \n",
       "95  out of stock  \n",
       "96  out of stock  \n",
       "97  out of stock  \n",
       "98  out of stock  \n",
       "99  out of stock  \n",
       "\n",
       "[100 rows x 4 columns]"
      ]
     },
     "execution_count": 25,
     "metadata": {},
     "output_type": "execute_result"
    }
   ],
   "source": [
    "books_data['Price']=books_data['Price'].str.replace('Â£', '').astype(float)\n",
    "books_data"
   ]
  },
  {
   "cell_type": "code",
   "execution_count": 27,
   "id": "e93d1fd2-b3f7-44fe-ad9c-c18467f34d04",
   "metadata": {},
   "outputs": [],
   "source": [
    "books_data.to_csv('books_data_csv.csv')"
   ]
  },
  {
   "cell_type": "code",
   "execution_count": null,
   "id": "44584287-aeee-47ad-ba2d-c1d61a0743b8",
   "metadata": {
    "editable": true,
    "slideshow": {
     "slide_type": ""
    },
    "tags": []
   },
   "outputs": [],
   "source": []
  }
 ],
 "metadata": {
  "kernelspec": {
   "display_name": "Python (venv)",
   "language": "python",
   "name": "venv"
  },
  "language_info": {
   "codemirror_mode": {
    "name": "ipython",
    "version": 3
   },
   "file_extension": ".py",
   "mimetype": "text/x-python",
   "name": "python",
   "nbconvert_exporter": "python",
   "pygments_lexer": "ipython3",
   "version": "3.13.2"
  }
 },
 "nbformat": 4,
 "nbformat_minor": 5
}
