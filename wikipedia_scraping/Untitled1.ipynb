{
 "cells": [
  {
   "cell_type": "code",
   "execution_count": 1,
   "id": "3c791489-a079-4f8a-843b-0db53c4990d0",
   "metadata": {
    "editable": true,
    "slideshow": {
     "slide_type": ""
    },
    "tags": []
   },
   "outputs": [],
   "source": [
    "import requests\n",
    "import pandas as pd\n",
    "from bs4 import BeautifulSoup"
   ]
  },
  {
   "cell_type": "code",
   "execution_count": 36,
   "id": "5174bacd-12f3-4c3e-8e94-71337c5a6dd3",
   "metadata": {},
   "outputs": [],
   "source": [
    "#to get the random url\n",
    "random_url='https://en.wikipedia.org/wiki/Wikipedia:Random'\n",
    "response=requests.head(random_url,allow_redirects=True) #This gets the final redirected url"
   ]
  },
  {
   "cell_type": "code",
   "execution_count": 39,
   "id": "0c27f1ed-cebc-4d5b-879c-eb6cb6a1bacd",
   "metadata": {},
   "outputs": [
    {
     "name": "stdout",
     "output_type": "stream",
     "text": [
      "article url: https://en.wikipedia.org/wiki/Wikipedia:Random\n"
     ]
    }
   ],
   "source": [
    "#To extract the redirected article url\n",
    "actual_article_url=response.url\n",
    "print(f'article url: {actual_article_url}')"
   ]
  },
  {
   "cell_type": "code",
   "execution_count": 40,
   "id": "7664dfb5-88f6-4f06-a2e6-ee453d708bef",
   "metadata": {},
   "outputs": [],
   "source": [
    "#to get the article content\n",
    "response=requests.get(actual_article_url)\n",
    "soup=BeautifulSoup(response.text,'html.parser')"
   ]
  },
  {
   "cell_type": "code",
   "execution_count": 41,
   "id": "a2bc20b2-8a74-405e-bd7f-6c5c7ed75e44",
   "metadata": {},
   "outputs": [
    {
     "name": "stdout",
     "output_type": "stream",
     "text": [
      "Wikipedia:Random\n"
     ]
    }
   ],
   "source": [
    "#to extract the title of the article\n",
    "title=soup.find('h1',class_='firstHeading').text\n",
    "print(title)"
   ]
  },
  {
   "cell_type": "code",
   "execution_count": 42,
   "id": "fe95e179-e859-40b0-85e1-8f6c17275014",
   "metadata": {},
   "outputs": [],
   "source": [
    "#to extract the main content\n",
    "content=soup.find('div',class_='mw-parser-output') #this gets the content\n",
    "paragraphs=soup.find_all('p')\n"
   ]
  },
  {
   "cell_type": "code",
   "execution_count": 43,
   "id": "00300c8b-e5d1-4aa2-9b43-05206dc44db5",
   "metadata": {},
   "outputs": [
    {
     "name": "stdout",
     "output_type": "stream",
     "text": [
      "\n",
      "Title :Wikipedia:Random\n",
      "\n",
      "Article: George Hamilton, 3rd Earl of Abercorn (c. 1636 – before 1683) died unmarried in Padua on a voyage to Rome. He was succeeded by Claud Hamilton, heir of Claud Hamilton, 2nd Baron Hamilton of Strabane, second son of the 1st Earl of Abercorn.\n",
      "\n",
      "George was born about 1636, probably in Paisley, Scotland, as the third son of James Hamilton and his wife Katherine Clifton.[1] His father was the 2nd Earl of Abercorn.\n",
      "\n",
      "George's mother was Dowager Duchess of Lennox from her previous marriage and Baroness Clifton of Leighton Bromswold in her own right. Both his parents were Catholic. They had married in 1627.[a][b]\n",
      "\n",
      "He was the youngest of three brothers who are listed in his father's article. His two brothers predeceased his father without producing a male heir.\n",
      "\n",
      "On 17 September 1637 his mother died in Scotland when he was about a year old. She was buried without ceremony as she was Catholic.[6] At that time his father was deep in debt owing more than 400,000 merks (about £20,000 Sterling) to his creditors.[7][8][9][d]\n",
      "\n",
      "In 1649 his father was excommunicated by the General Assembly of the Church of Scotland as a Catholic and ordered to leave the kingdom.[10] On 22 June 1652 he sold Paisley to the Earl of Angus for £13,333 6s 8d Scots (about £1100 Sterling).[11][e]\n",
      "\n",
      "His two elder brothers grew up to reach adulthood but predeceased his father, making him the only surviving son and heir. He therefore succeeded as the 3rd Earl of Abercorn at his father's death in about 1670.[12][13]\n",
      "\n",
      "Lord Abercorn died in his forties, unmarried, about 1680, in Padua, Veneto, Italy, on his way to Rome,[14][15]\n",
      "\n",
      "With his death, the senior line of the Abercorns failed. The title passed to the nearest cadet branch which was that of the barons Hamilton of Strabane, who descended from his uncle Claud. The representative of this line, Claud's grandson, Claud Hamilton, 5th Baron Hamilton of Strabane, therefore became the 4th Earl of Abercorn.[16][17]\n",
      "\n",
      "On Wikipedia and other sites running on MediaWiki, Special:Random can be used to access a random article in the main namespace; this feature is useful as a tool to generate a random article. Depending on your browser, it's also possible to load a random page using a keyboard shortcut (in Firefox, Edge, and Chrome Alt-Shift+X).\n",
      "\n",
      "To create a link to a random page in a different namespace, use [[Special:Random/Namespace]]. For example, Special:Random/Talk will take you to a random article's talk page.\n",
      "\n",
      "Article Talk\n",
      "User Talk\n",
      "Wikipedia Talk\n",
      "File Talk\n",
      "MediaWiki Talk\n",
      "Template Talk\n",
      "Help Talk\n",
      "Category Talk\n",
      "Portal Talk\n",
      "Draft Talk\n",
      "TimedText Talk\n",
      "Module Talk\n",
      "\n",
      "Main Talk\n",
      "User Talk\n",
      "Wikipedia Talk\n",
      "File Talk\n",
      "MediaWiki Talk\n",
      "Template Talk\n",
      "Help Talk\n",
      "Category Talk\n",
      "Portal Talk\n",
      "Draft Talk\n",
      "TimedText Talk\n",
      "Module Talk\n",
      "\n",
      "If you are wondering if the \"random article\" feature is really random, read the answer here.\n",
      "\n",
      "\n"
     ]
    }
   ],
   "source": [
    "#to get all the paragraph texts\n",
    "for par in paragraphs: #loops over each paragraph inside paragraps\n",
    "    text=par.get_text().strip() #get_text method gets each text in the paragraph, stip() removes spaces\n",
    "    if text: \n",
    "        article_text+=text+'\\n\\n' #indicates that if a text (as defined) is seen, add it to the article_text var\n",
    "\n",
    "print(f'\\nTitle :{title}\\n')\n",
    "print(f'Article: {article_text}')"
   ]
  },
  {
   "cell_type": "code",
   "execution_count": null,
   "id": "19cc9ce2-2333-4503-8c14-c63d66c3ad8e",
   "metadata": {},
   "outputs": [],
   "source": []
  }
 ],
 "metadata": {
  "kernelspec": {
   "display_name": "Python (flask_todo_venv)",
   "language": "python",
   "name": "flask_todo_venv"
  },
  "language_info": {
   "codemirror_mode": {
    "name": "ipython",
    "version": 3
   },
   "file_extension": ".py",
   "mimetype": "text/x-python",
   "name": "python",
   "nbconvert_exporter": "python",
   "pygments_lexer": "ipython3",
   "version": "3.13.2"
  }
 },
 "nbformat": 4,
 "nbformat_minor": 5
}
